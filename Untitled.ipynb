{
 "cells": [
  {
   "cell_type": "code",
   "execution_count": 1,
   "metadata": {
    "collapsed": true
   },
   "outputs": [],
   "source": [
    "import requests\n",
    "import json\n",
    "import matplotlib\n",
    "import matplotlib.pyplot as plt\n",
    "import plotly \n",
    "import plotly.plotly as py     \n",
    "import plotly.graph_objs as go  \n",
    "import cufflinks as cf\n",
    "import pandas as pd"
   ]
  },
  {
   "cell_type": "code",
   "execution_count": 5,
   "metadata": {},
   "outputs": [
    {
     "data": {
      "text/plain": [
       "{'blocks_size': 172216002,\n",
       " 'difficulty': 1590896927258,\n",
       " 'estimated_btc_sent': 23637217054589,\n",
       " 'estimated_transaction_volume_usd': 3514808083.44,\n",
       " 'hash_rate': 12890678178.73,\n",
       " 'market_price_usd': 14869.8,\n",
       " 'miners_revenue_btc': 2490,\n",
       " 'miners_revenue_usd': 37038103.95,\n",
       " 'minutes_between_blocks': 8.32,\n",
       " 'n_blocks_mined': 163,\n",
       " 'n_blocks_total': 498644,\n",
       " 'n_btc_mined': 203750000000,\n",
       " 'n_tx': 339379,\n",
       " 'nextretarget': 499967,\n",
       " 'timestamp': 1512951093000,\n",
       " 'total_btc_sent': 197305732571059,\n",
       " 'total_fees_btc': 45332647368,\n",
       " 'totalbc': 1673305000000000,\n",
       " 'trade_volume_btc': 170768.0,\n",
       " 'trade_volume_usd': 2539286892.7}"
      ]
     },
     "execution_count": 5,
     "metadata": {},
     "output_type": "execute_result"
    }
   ],
   "source": [
    "url = 'https://api.blockchain.info/stats'\n",
    "response = requests.get(url)\n",
    "coins = response.json()\n",
    "coins"
   ]
  },
  {
   "cell_type": "code",
   "execution_count": null,
   "metadata": {
    "collapsed": true
   },
   "outputs": [],
   "source": []
  }
 ],
 "metadata": {
  "kernelspec": {
   "display_name": "Python 3",
   "language": "python",
   "name": "python3"
  },
  "language_info": {
   "codemirror_mode": {
    "name": "ipython",
    "version": 3
   },
   "file_extension": ".py",
   "mimetype": "text/x-python",
   "name": "python",
   "nbconvert_exporter": "python",
   "pygments_lexer": "ipython3",
   "version": "3.6.1"
  }
 },
 "nbformat": 4,
 "nbformat_minor": 2
}
